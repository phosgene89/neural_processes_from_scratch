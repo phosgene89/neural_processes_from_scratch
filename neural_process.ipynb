{
 "cells": [
  {
   "cell_type": "code",
   "execution_count": 43,
   "metadata": {},
   "outputs": [],
   "source": [
    "import numpy as np\n",
    "import matplotlib.pyplot as plt\n",
    "from IPython.display import clear_output\n",
    "\n",
    "import torch\n",
    "from torch.utils.data import Dataset, DataLoader"
   ]
  },
  {
   "cell_type": "code",
   "execution_count": 44,
   "metadata": {},
   "outputs": [],
   "source": [
    "N_SAMPLES = 100\n",
    "NOISE_STD = .5"
   ]
  },
  {
   "cell_type": "code",
   "execution_count": 210,
   "metadata": {},
   "outputs": [],
   "source": [
    "def gen_data(n_samples, ordered=False):\n",
    "    \n",
    "    if ordered:\n",
    "        x = np.linspace(-7, 7, n_samples)\n",
    "        \n",
    "    else:\n",
    "        x = np.random.uniform(-5, 5, n_samples)\n",
    "    \n",
    "    y = x**3/10 + np.sin(x)*5\n",
    "    \n",
    "    return x, y"
   ]
  },
  {
   "cell_type": "code",
   "execution_count": 211,
   "metadata": {},
   "outputs": [
    {
     "data": {
      "text/plain": [
       "<matplotlib.collections.PathCollection at 0x28ac763fb88>"
      ]
     },
     "execution_count": 211,
     "metadata": {},
     "output_type": "execute_result"
    },
    {
     "data": {
      "image/png": "[encoded data removed]",
      "text/plain": [
       "<Figure size 432x288 with 1 Axes>"
      ]
     },
     "metadata": {
      "needs_background": "light"
     },
     "output_type": "display_data"
    }
   ],
   "source": [
    "x = np.linspace(-5, 5, N_SAMPLES)\n",
    "y = x**2/10 + np.sin(x)\n",
    "\n",
    "plt.plot(x, y, linewidth=3)\n",
    "plt.scatter(x, y, color='black', s=16)"
   ]
  },
  {
   "cell_type": "code",
   "execution_count": 212,
   "metadata": {},
   "outputs": [],
   "source": [
    "class GenericDataset(Dataset):\n",
    "    \n",
    "    def __init__(self, n_batches, noise_std):\n",
    "        super().__init__()\n",
    "        \n",
    "        self.n_batches = n_batches\n",
    "        self.noise_std = noise_std\n",
    "        \n",
    "    def __len__(self):\n",
    "        return self.n_batches\n",
    "    \n",
    "    def __getitem__(self, idx):\n",
    "        \n",
    "        context_x, context_y = gen_data(1)\n",
    "        \n",
    "        target_x, target_y = gen_data(1)\n",
    "        \n",
    "        return context_x, context_y+np.random.normal(0, 0.3, len(context_y)), target_x, target_y+np.random.normal(0, 0.3, len(context_y))"
   ]
  },
  {
   "cell_type": "code",
   "execution_count": 219,
   "metadata": {},
   "outputs": [],
   "source": [
    "train_dataset = GenericDataset(100, NOISE_STD)\n",
    "train_dataloader = DataLoader(train_dataset, batch_size = 32)"
   ]
  },
  {
   "cell_type": "code",
   "execution_count": 220,
   "metadata": {},
   "outputs": [],
   "source": [
    "class Encoder(torch.nn.Module):\n",
    "    \n",
    "    def __init__(self, n_input, n_hidden, n_latent):\n",
    "        super().__init__()\n",
    "        \n",
    "        self.linear1 = torch.nn.Linear(n_input, n_hidden)\n",
    "        self.linear2 = torch.nn.Linear(n_hidden, n_latent)\n",
    "        \n",
    "        self.linear3 = torch.nn.Linear(n_latent, n_latent+1)\n",
    "        self.softplus =  torch.nn.Softplus()\n",
    "        \n",
    "        self.relu = torch.nn.ReLU()\n",
    "    \n",
    "    def forward(self, x):\n",
    "        \n",
    "        x = self.relu(self.linear1(x))\n",
    "        x = self.relu(self.linear2(x))\n",
    "        \n",
    "        # Aggregator\n",
    "        x = torch.mean(x, axis=0).unsqueeze(0)\n",
    "        \n",
    "        # Project to a mean and standard deviation.\n",
    "        x = self.relu(self.linear3(x))\n",
    "        \n",
    "        mean = x[:, :-1]\n",
    "        standard_deviation = self.softplus(x[:, -1:])\n",
    "        \n",
    "        return mean, standard_deviation\n",
    "    \n",
    "class Decoder(torch.nn.Module):\n",
    "    \n",
    "    def __init__(self, latent_dim, n_input, n_output, n_hidden):\n",
    "        super().__init__()\n",
    "        \n",
    "        self.n_output = n_output\n",
    "        \n",
    "        self.linear1 = torch.nn.Linear(latent_dim, n_hidden)\n",
    "        self.linear2 = torch.nn.Linear(n_input, n_hidden)\n",
    "        \n",
    "        self.linear3 = torch.nn.Linear(n_hidden, n_hidden)\n",
    "        self.linear4 = torch.nn.Linear(n_hidden, n_output*2)\n",
    "        \n",
    "        self.relu = torch.nn.ReLU()\n",
    "        self.softplus = torch.nn.Softplus()\n",
    "        \n",
    "    def forward(self, latent, x):\n",
    "        \n",
    "        x = self.relu(self.linear1(latent)) + self.relu(self.linear2(x))\n",
    "        x = self.relu(self.linear3(x))\n",
    "        x = self.linear4(x)\n",
    "        \n",
    "        mean = x[:, :self.n_output]\n",
    "        standard_deviation = self.softplus(x[:,self.n_output:])\n",
    "        \n",
    "        n_batches = mean.shape[0]\n",
    "        \n",
    "        output_distribution = torch.distributions.normal.Normal(mean,\n",
    "                                                                standard_deviation)\n",
    "        \n",
    "        return output_distribution\n",
    "    \n",
    "class NeuralProcess(torch.nn.Module):\n",
    "    \n",
    "    def __init__(self, encoder, decoder, latent_dim):\n",
    "        super().__init__()\n",
    "        \n",
    "        self.encoder = encoder\n",
    "        self.decoder = decoder\n",
    "        \n",
    "    def forward(self, context_points, inputs):\n",
    "        \n",
    "        mean, standard_deviation = self.encoder(context_points)\n",
    "        \n",
    "        sampled_latent = torch.randn(1, mean.shape[1])*standard_deviation + mean\n",
    "        \n",
    "        output_distribution = self.decoder(sampled_latent, inputs)\n",
    "        \n",
    "        return output_distribution"
   ]
  },
  {
   "cell_type": "code",
   "execution_count": 221,
   "metadata": {},
   "outputs": [],
   "source": [
    "LATENT_DIM = 128\n",
    "N_HIDDEN = 128*4\n",
    "N_INPUT = 1\n",
    "N_OUTPUT = 1\n",
    "\n",
    "encoder = Encoder(N_INPUT*2, N_HIDDEN, LATENT_DIM)\n",
    "decoder = Decoder(LATENT_DIM, N_INPUT, N_OUTPUT, N_HIDDEN)\n",
    "neural_process = NeuralProcess(encoder, decoder, LATENT_DIM).double()"
   ]
  },
  {
   "cell_type": "code",
   "execution_count": 225,
   "metadata": {},
   "outputs": [
    {
     "name": "stdout",
     "output_type": "stream",
     "text": [
      "Epoch 200 RMSE: 1.1983671752625948\n"
     ]
    }
   ],
   "source": [
    "N_EPOCHS = 200\n",
    "\n",
    "criterion = torch.nn.MSELoss()\n",
    "optimizer = torch.optim.Adam(neural_process.parameters(), lr=0.0001)\n",
    "\n",
    "for epoch in range(N_EPOCHS):\n",
    "    \n",
    "    rmse_vals = []\n",
    "    \n",
    "    for context_x, context_y, target_x, target_y in train_dataloader:\n",
    "        \n",
    "        encoder_input = torch.cat([context_x, context_y], axis=1)\n",
    "\n",
    "        output_distribution = neural_process(encoder_input, target_x)\n",
    "        \n",
    "        loss = torch.mean(-output_distribution.log_prob(target_y)) #criterion(target_y, prediction)\n",
    "        optimizer.zero_grad()\n",
    "        loss.backward()\n",
    "        optimizer.step()\n",
    "        \n",
    "        rmse_vals.append(loss.item())\n",
    "        \n",
    "    clear_output(wait=True)\n",
    "    print(f\"Epoch {epoch+1} RMSE: {np.mean(rmse_vals)}\")"
   ]
  },
  {
   "cell_type": "code",
   "execution_count": 226,
   "metadata": {},
   "outputs": [
    {
     "data": {
      "image/png": "[encoded data removed]",
      "text/plain": [
       "<Figure size 432x288 with 1 Axes>"
      ]
     },
     "metadata": {
      "needs_background": "light"
     },
     "output_type": "display_data"
    }
   ],
   "source": [
    "pred_x, pred_y = gen_data(100, ordered=True)\n",
    "\n",
    "prediction_distribution = neural_process(encoder_input, torch.Tensor(pred_x.reshape(-1, 1)).double())\n",
    "\n",
    "prediction = prediction_distribution.mean\n",
    "prediction = prediction.reshape(-1).detach().cpu().numpy()\n",
    "\n",
    "uncertainty = prediction_distribution.stddev\n",
    "uncertainty = uncertainty.reshape(-1).detach().cpu().numpy()\n",
    "\n",
    "plt.plot(pred_x, prediction, color='tab:blue', label=\"Mean prediction\")\n",
    "plt.fill_between(pred_x, prediction - 1.97*uncertainty, prediction + 1.97*uncertainty, alpha=0.2, \n",
    "                 color='tab:blue', label=\"Uncertainty\")\n",
    "plt.plot(x, y, color='black', label=\"Targets\")\n",
    "plt.legend()\n",
    "plt.show()"
   ]
  },
  {
   "cell_type": "code",
   "execution_count": null,
   "metadata": {},
   "outputs": [],
   "source": []
  },
  {
   "cell_type": "code",
   "execution_count": null,
   "metadata": {},
   "outputs": [],
   "source": []
  }
 ],
 "metadata": {
  "kernelspec": {
   "display_name": "Python 3",
   "language": "python",
   "name": "python3"
  },
  "language_info": {
   "codemirror_mode": {
    "name": "ipython",
    "version": 3
   },
   "file_extension": ".py",
   "mimetype": "text/x-python",
   "name": "python",
   "nbconvert_exporter": "python",
   "pygments_lexer": "ipython3",
   "version": "3.7.7"
  }
 },
 "nbformat": 4,
 "nbformat_minor": 4
}
