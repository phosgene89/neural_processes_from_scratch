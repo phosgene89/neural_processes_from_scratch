{
 "cells": [
  {
   "cell_type": "code",
   "execution_count": 80,
   "metadata": {},
   "outputs": [],
   "source": [
    "import numpy as np\n",
    "import matplotlib.pyplot as plt\n",
    "from IPython.display import clear_output\n",
    "\n",
    "import torch\n",
    "from torch.utils.data import Dataset, DataLoader\n",
    "import torch.nn.functional as F"
   ]
  },
  {
   "cell_type": "markdown",
   "metadata": {},
   "source": [
    "### TODO\n",
    "Add CUDA"
   ]
  },
  {
   "cell_type": "code",
   "execution_count": 82,
   "metadata": {},
   "outputs": [],
   "source": [
    "N_SAMPLES = 500\n",
    "NOISE_STD = .5"
   ]
  },
  {
   "cell_type": "code",
   "execution_count": 83,
   "metadata": {},
   "outputs": [],
   "source": [
    "def gen_data(n_samples, ordered=False):\n",
    "    \n",
    "    if ordered:\n",
    "        x = np.linspace(-15, 15, n_samples)\n",
    "        \n",
    "    else:\n",
    "        x = np.linspace(-15, 15, n_samples) #np.random.uniform(-15, 15, n_samples)\n",
    "    \n",
    "    y = x**3/10 + np.sin(x)*50\n",
    "    \n",
    "    return x.reshape(-1, 1), y.reshape(-1, 1)"
   ]
  },
  {
   "cell_type": "code",
   "execution_count": 84,
   "metadata": {},
   "outputs": [
    {
     "data": {
      "text/plain": [
       "<matplotlib.collections.PathCollection at 0x17237127910>"
      ]
     },
     "execution_count": 84,
     "metadata": {},
     "output_type": "execute_result"
    },
    {
     "data": {
      "image/png": "[encoded data removed]",
      "text/plain": [
       "<Figure size 432x288 with 1 Axes>"
      ]
     },
     "metadata": {
      "needs_background": "light"
     },
     "output_type": "display_data"
    }
   ],
   "source": [
    "x = np.linspace(-15, 15, N_SAMPLES)\n",
    "y = x**3/10 + np.sin(x)*50\n",
    "\n",
    "plt.plot(x, y, linewidth=3)\n",
    "plt.scatter(x, y, color='black', s=16)"
   ]
  },
  {
   "cell_type": "code",
   "execution_count": 85,
   "metadata": {},
   "outputs": [],
   "source": [
    "class GenericDataset(Dataset):\n",
    "    \n",
    "    def __init__(self, n_batches, noise_std):\n",
    "        super().__init__()\n",
    "        \n",
    "        self.n_batches = n_batches\n",
    "        self.noise_std = noise_std\n",
    "        \n",
    "    def __len__(self):\n",
    "        return self.n_batches\n",
    "    \n",
    "    def __getitem__(self, idx):\n",
    "        \n",
    "        context_x, context_y = gen_data(5)\n",
    "        context_y = context_y + np.random.normal(0, self.noise_std, context_y.shape)\n",
    "        \n",
    "        target_x, target_y = gen_data(5)\n",
    "        target_y = target_y + np.random.normal(0, self.noise_std, context_y.shape)\n",
    "        \n",
    "        return context_x, context_y, target_x, target_y"
   ]
  },
  {
   "cell_type": "code",
   "execution_count": 86,
   "metadata": {},
   "outputs": [],
   "source": [
    "train_dataset = GenericDataset(100, NOISE_STD)\n",
    "train_dataloader = DataLoader(train_dataset, batch_size = 32)"
   ]
  },
  {
   "cell_type": "code",
   "execution_count": 87,
   "metadata": {},
   "outputs": [],
   "source": [
    "class AttentionHead(torch.nn.Module):\n",
    "    \"\"\"Attention head as given in https://arxiv.org/abs/1706.03762.\n",
    "    \n",
    "    In brief, the queries, keys and values (Q, K, V) are projected into\n",
    "    user-defined dimensions and then passed through dot-product attention.\n",
    "    \"\"\"\n",
    "    \n",
    "    def __init__(self, input_dims_Q, input_dims_K, input_dims_V, dim_k, dim_v):\n",
    "        super().__init__()\n",
    "        \"\"\"Class constructor.\n",
    "        \n",
    "        Arguments\n",
    "        ---------\n",
    "        input_dims_Q: int\n",
    "            Dimensions in raw queries before being projected to dim_k.\n",
    "        input_dims_K: int\n",
    "            Dimensions in raw keys before being projected to dim_k.\n",
    "        input_dims_V: int\n",
    "            Dimensions in raw values before being projected to dim_v.\n",
    "        dim_k: int\n",
    "            Dimensions to project raw queries and keys to.\n",
    "        dim_v: int\n",
    "            Dimensions to project raw values to.\n",
    "        \"\"\"\n",
    "        \n",
    "        self.dim_k = dim_k\n",
    "        self.dim_v = dim_v\n",
    "        \n",
    "        self.project_Q = torch.nn.Linear(input_dims_Q, dim_k)\n",
    "        self.project_K = torch.nn.Linear(input_dims_K, dim_k)\n",
    "        self.project_V = torch.nn.Linear(input_dims_V, dim_v)\n",
    "        \n",
    "    def dot_product_attention(self, Q, K, V):\n",
    "        \"\"\"Dot product attention as given in https://arxiv.org/abs/1706.03762, where\n",
    "        Q, K and V are the queries, keys and values, respectively.\n",
    "        \n",
    "        Q is expected to be of dimension (batch_size, n_queries, dim_k).\n",
    "        K is expected to be of dimension (batch_size, n_values, dim_k).\n",
    "        V is expected to be of dimension (batch_size, n_values, dim_v).\n",
    "        \n",
    "        Returns\n",
    "        torch.Tensor containing attention values. The output shape is (batch_size, n_queries, dim_v).\n",
    "        \"\"\"\n",
    "        \n",
    "        QK_T = torch.bmm(Q, torch.swapaxes(K, 1, 2))\n",
    "        soft_QK_T = F.softmax(QK_T/np.sqrt(self.dim_k), dim=-1)\n",
    "        attention = torch.bmm(soft_QK_T, V)\n",
    "        \n",
    "        return attention\n",
    "    \n",
    "    \n",
    "    def project_inputs(self, raw_Q, raw_K, raw_V):\n",
    "        \"\"\"Uses feed-forward networks to project last dimension of input tensors\n",
    "        to new space defined by self.dim_k and self.dim_v.\n",
    "        \"\"\"\n",
    "        Q = F.relu(self.project_Q(raw_Q))\n",
    "        K = F.relu(self.project_K(raw_K))\n",
    "        V = F.relu(self.project_V(raw_V))\n",
    "        \n",
    "        return Q, K , V\n",
    "    \n",
    "    def forward(self, raw_Q, raw_K, raw_V):\n",
    "        \n",
    "        Q, K, V = self.project_inputs(raw_Q, raw_K, raw_V)\n",
    "        attention = self.dot_product_attention(Q, K, V)\n",
    "        \n",
    "        return attention\n",
    "    \n",
    "class MultiHeadAttention(torch.nn.Module):\n",
    "    \"\"\"Multi-headed attention head as given in https://arxiv.org/abs/1706.03762.\n",
    "    \n",
    "    In brief, the queries, keys and values (Q, K, V) are projected into\n",
    "    user-defined dimensions and then passed through dot-product attention. This\n",
    "    is repeated for multiple attention heads. The output of these heads is concatenated\n",
    "    and then passed through a final feed-forward layer.\n",
    "    \"\"\"\n",
    "    \n",
    "    def __init__(self, input_dims_Q, input_dims_K, input_dims_V, dim_k, dim_v, n_heads):\n",
    "        super().__init__()\n",
    "        \n",
    "        assert dim_k % n_heads == 0, \"dim_k must be divisible by n_heads.\"\n",
    "        assert dim_v % n_heads == 0, \"dim_v must be divisible by n_heads.\"\n",
    "        \n",
    "        self.attention_heads = []\n",
    "        self.n_heads = n_heads\n",
    "        \n",
    "        for head in range(n_heads):\n",
    "            self.attention_heads.append(AttentionHead(input_dims_Q,\n",
    "                                                      input_dims_K,\n",
    "                                                      input_dims_V,\n",
    "                                                      dim_k//n_heads,\n",
    "                                                      dim_v//n_heads))\n",
    "            \n",
    "        self.post_process_attention = torch.nn.Linear(dim_v, dim_v)\n",
    "            \n",
    "    def forward(self, raw_Q, raw_K, raw_V):\n",
    "        \n",
    "        attention_head_outputs = []\n",
    "        \n",
    "        for head in self.attention_heads:\n",
    "            attention = head(raw_Q, raw_K, raw_V)\n",
    "            attention_head_outputs.append(attention)\n",
    "            \n",
    "        multi_head_attention = torch.cat(attention_head_outputs, axis=-1)\n",
    "        multi_head_attention = F.relu(self.post_process_attention(multi_head_attention))\n",
    "        \n",
    "        return multi_head_attention"
   ]
  },
  {
   "cell_type": "code",
   "execution_count": 88,
   "metadata": {},
   "outputs": [
    {
     "name": "stdout",
     "output_type": "stream",
     "text": [
      "66\n",
      "60\n"
     ]
    },
    {
     "data": {
      "text/plain": [
       "torch.Size([32, 4, 60])"
      ]
     },
     "execution_count": 88,
     "metadata": {},
     "output_type": "execute_result"
    }
   ],
   "source": [
    "batch_size = 32\n",
    "input_dims_Q = 5\n",
    "input_dim_K = 3\n",
    "input_dims_V = 4\n",
    "\n",
    "dim_k = 6*11\n",
    "print(dim_k)\n",
    "dim_v = 6*10\n",
    "print(dim_v)\n",
    "\n",
    "n_context = torch.rand((batch_size, 4, input_dims_Q))\n",
    "target_x = torch.rand((batch_size, 12, input_dims_K))\n",
    "target_y = torch.rand((batch_size, 12, input_dims_V))\n",
    "\n",
    "transformer = MultiHeadAttention(input_dims_Q, input_dims_K, input_dims_V, dim_k, dim_v, 6)\n",
    "transformer(n_context, target_x, target_y).shape"
   ]
  },
  {
   "cell_type": "code",
   "execution_count": 89,
   "metadata": {},
   "outputs": [
    {
     "data": {
      "text/plain": [
       "torch.Size([32, 4, 60])"
      ]
     },
     "execution_count": 89,
     "metadata": {},
     "output_type": "execute_result"
    }
   ],
   "source": [
    "transformer = AttentionHead(input_dims_Q, input_dims_K, input_dims_V, dim_k, dim_v)\n",
    "transformer(n_context, target_x, target_y).shape"
   ]
  },
  {
   "cell_type": "code",
   "execution_count": 120,
   "metadata": {},
   "outputs": [],
   "source": [
    "class Encoder(torch.nn.Module):\n",
    "    \"\"\"Encodes context features and targets into a latent space, as\n",
    "    detailed in https://arxiv.org/abs/1807.01622.\n",
    "    \n",
    "    The context features and targets are first concatenated, then\n",
    "    passed through a feedforward neural network. The results are then\n",
    "    aggregated into vectors giving the mean and standard deviation of\n",
    "    the latent space.\n",
    "    \"\"\"\n",
    "    \n",
    "    def __init__(self, n_input, n_hidden, n_latent):\n",
    "        super().__init__()\n",
    "        \n",
    "        self.linear1 = torch.nn.Linear(n_input, n_hidden)\n",
    "        self.linear2 = torch.nn.Linear(n_hidden, n_latent)\n",
    "        \n",
    "        self.linear3 = torch.nn.Linear(n_latent, n_latent+1)\n",
    "        self.softplus =  torch.nn.Softplus()\n",
    "        \n",
    "        self.relu = torch.nn.ReLU()\n",
    "    \n",
    "    def forward(self, x):\n",
    "\n",
    "        x = self.relu(self.linear1(x))\n",
    "        x = self.relu(self.linear2(x))\n",
    "        \n",
    "        # Aggregator\n",
    "        x = torch.mean(x, axis=1).unsqueeze(1)\n",
    "        \n",
    "        # Project to a mean and standard deviation.\n",
    "        x = self.relu(self.linear3(x))\n",
    "        \n",
    "        mean = x[:, :, :-1]\n",
    "        # Softplus ensures that the standard deviations are positive.\n",
    "        standard_deviation = self.softplus(x[:, :, -1:])\n",
    "        \n",
    "        return mean, standard_deviation\n",
    "    \n",
    "class Decoder(torch.nn.Module):\n",
    "    \n",
    "    def __init__(self, latent_dim, n_input, n_output, n_hidden):\n",
    "        super().__init__()\n",
    "        \n",
    "        self.n_output = n_output\n",
    "        \n",
    "        self.linear1 = torch.nn.Linear(latent_dim, n_hidden)\n",
    "        self.linear2 = torch.nn.Linear(n_input, n_hidden)\n",
    "        \n",
    "        self.linear3 = torch.nn.Linear(n_hidden, n_hidden)\n",
    "        self.linear4 = torch.nn.Linear(n_hidden, n_output*2)\n",
    "        \n",
    "        self.relu = torch.nn.ReLU()\n",
    "        self.softplus = torch.nn.Softplus()\n",
    "        \n",
    "    def forward(self, latent, x):\n",
    "        \n",
    "        x = self.relu(self.linear1(latent)) + self.relu(self.linear2(x))\n",
    "        x = self.relu(self.linear3(x))\n",
    "        x = self.linear4(x)\n",
    "\n",
    "        mean = x[:, :, :self.n_output]\n",
    "        standard_deviation = self.softplus(x[:, :, self.n_output:])\n",
    "        \n",
    "        n_batches = mean.shape[0]\n",
    "        \n",
    "        output_distribution = torch.distributions.normal.Normal(mean,\n",
    "                                                                standard_deviation)\n",
    "        \n",
    "        return output_distribution\n",
    "    \n",
    "class NeuralProcess(torch.nn.Module):\n",
    "    \n",
    "    def __init__(self, encoder, decoder, latent_dim):\n",
    "        super().__init__()\n",
    "        \n",
    "        self.encoder = encoder\n",
    "        self.decoder = decoder\n",
    "        \n",
    "    def forward(self, context_points, inputs):\n",
    "        \n",
    "        mean, standard_deviation = self.encoder(context_points)\n",
    "        sampled_latent = torch.randn(mean.shape)*standard_deviation + mean\n",
    "        output_distribution = self.decoder(sampled_latent, inputs)\n",
    "        \n",
    "        return output_distribution\n",
    "    \n",
    "class AttentiveNeuralProcess(torch.nn.Module):\n",
    "    \"\"\"Unfinished and untested.\n",
    "    \"\"\"\n",
    "    \n",
    "    def __init__(self, deterministic_encoder, stochastic_encoder, decoder, latent_dim_deterministic,\n",
    "                 latent_dim_stochastic):\n",
    "        super().__init__()\n",
    "        \n",
    "        self.deterministic_encoder = deterministic_encoder\n",
    "        self.stochastic_encoder = stochastic_encoder\n",
    "        self.decoder = decoder\n",
    "        \n",
    "    def forward(self, context_points, inputs):\n",
    "        \n",
    "        deterministic_latents = self.deterministic_encoder(context_points)\n",
    "        stochastic_mean, stochastic_std = self.stochastic_encoder(context_points)\n",
    "        sampled_latent = torch.randn(stochastic_mean.shape).cuda()*stochastic_std + stochastic_mean\n",
    "        \n",
    "        decoder_latent = torch.cat([deterministic_latents, sampled_latents], axis=-1)\n",
    "        output_distribution = self.decoder(decoder_latent, inputs)\n",
    "        \n",
    "        return output_distribution"
   ]
  },
  {
   "cell_type": "code",
   "execution_count": 121,
   "metadata": {},
   "outputs": [],
   "source": [
    "def plot_prediction(n_target_points, n_context):\n",
    "\n",
    "    pred_x, pred_y = gen_data(n_target_points, ordered=True)\n",
    "    context_x, context_y = gen_data(n_context)\n",
    "    encoder_input = torch.cat([torch.Tensor(context_x.reshape(1, n_context, N_OUTPUT)), \n",
    "                               torch.Tensor(context_y.reshape(1, n_context, N_OUTPUT))], axis=2)\n",
    "\n",
    "    prediction_distribution = neural_process(encoder_input[:1,:,:].double(), \n",
    "                                             torch.Tensor(pred_x.reshape(1, n_target_points, N_OUTPUT)).double())\n",
    "\n",
    "    prediction = prediction_distribution.mean\n",
    "\n",
    "    prediction = prediction.reshape(-1).detach().cpu().numpy()\n",
    "\n",
    "    uncertainty = prediction_distribution.stddev[0]\n",
    "    uncertainty = uncertainty.reshape(-1).detach().cpu().numpy()\n",
    "\n",
    "    plt.plot(pred_x.reshape(-1), prediction, color='tab:blue', label=\"Mean prediction\")\n",
    "    plt.fill_between(pred_x.reshape(-1), prediction - 1.97*uncertainty, prediction + 1.97*uncertainty, alpha=0.2, \n",
    "                     color='tab:blue', label=\"Uncertainty\")\n",
    "    plt.plot(x, y, color='black', label=\"Targets\")\n",
    "    plt.scatter(context_x.reshape(-1), context_y.reshape(-1), color='black', label=\"Context points\")\n",
    "    plt.legend()\n",
    "    plt.xlabel(\"x\")\n",
    "    plt.ylabel(\"y\")\n",
    "    plt.show()"
   ]
  },
  {
   "cell_type": "code",
   "execution_count": 122,
   "metadata": {},
   "outputs": [],
   "source": [
    "LATENT_DIM = 128\n",
    "N_HIDDEN = 128*4\n",
    "N_INPUT = 1\n",
    "N_OUTPUT = 1\n",
    "\n",
    "encoder = Encoder(N_INPUT*2, N_HIDDEN, LATENT_DIM)\n",
    "decoder = Decoder(LATENT_DIM, N_INPUT, N_OUTPUT, N_HIDDEN)\n",
    "neural_process = NeuralProcess(encoder, decoder, LATENT_DIM).double()"
   ]
  },
  {
   "cell_type": "code",
   "execution_count": 123,
   "metadata": {},
   "outputs": [
    {
     "name": "stdout",
     "output_type": "stream",
     "text": [
      "Epoch 200 RMSE: 5.007929558451868\n"
     ]
    },
    {
     "data": {
      "image/png": "[encoded data removed]",
      "text/plain": [
       "<Figure size 432x288 with 1 Axes>"
      ]
     },
     "metadata": {
      "needs_background": "light"
     },
     "output_type": "display_data"
    }
   ],
   "source": [
    "N_EPOCHS = 200\n",
    "\n",
    "criterion = torch.nn.MSELoss()\n",
    "optimizer = torch.optim.Adam(neural_process.parameters(), lr=0.001)\n",
    "\n",
    "for epoch in range(N_EPOCHS):\n",
    "    \n",
    "    rmse_vals = []\n",
    "    \n",
    "    for context_x, context_y, target_x, target_y in train_dataloader:\n",
    "        \n",
    "        encoder_input = torch.cat([context_x, context_y], axis=2)\n",
    "\n",
    "        output_distribution = neural_process(encoder_input, target_x)\n",
    "        \n",
    "        loss = torch.mean(-output_distribution.log_prob(target_y)) #criterion(target_y, prediction)\n",
    "        optimizer.zero_grad()\n",
    "        loss.backward()\n",
    "        optimizer.step()\n",
    "        \n",
    "        rmse_vals.append(loss.item())\n",
    "        \n",
    "    clear_output(wait=True)\n",
    "    print(f\"Epoch {epoch+1} RMSE: {np.mean(rmse_vals)}\")\n",
    "    plot_prediction(N_TARGET_POINTS, N_CONTEXT)"
   ]
  },
  {
   "cell_type": "code",
   "execution_count": 94,
   "metadata": {},
   "outputs": [
    {
     "ename": "RuntimeError",
     "evalue": "Expected all tensors to be on the same device, but found at least two devices, cuda:0 and cpu!",
     "output_type": "error",
     "traceback": [
      "\u001b[1;31m---------------------------------------------------------------------------\u001b[0m",
      "\u001b[1;31mRuntimeError\u001b[0m                              Traceback (most recent call last)",
      "\u001b[1;32m~\\AppData\\Local\\Temp/ipykernel_1324/1338116231.py\u001b[0m in \u001b[0;36m<module>\u001b[1;34m\u001b[0m\n\u001b[0;32m      2\u001b[0m \u001b[0mN_CONTEXT\u001b[0m \u001b[1;33m=\u001b[0m \u001b[1;36m50\u001b[0m\u001b[1;33m\u001b[0m\u001b[1;33m\u001b[0m\u001b[0m\n\u001b[0;32m      3\u001b[0m \u001b[1;33m\u001b[0m\u001b[0m\n\u001b[1;32m----> 4\u001b[1;33m \u001b[0mplot_prediction\u001b[0m\u001b[1;33m(\u001b[0m\u001b[0mN_TARGET_POINTS\u001b[0m\u001b[1;33m,\u001b[0m \u001b[0mN_CONTEXT\u001b[0m\u001b[1;33m)\u001b[0m\u001b[1;33m\u001b[0m\u001b[1;33m\u001b[0m\u001b[0m\n\u001b[0m",
      "\u001b[1;32m~\\AppData\\Local\\Temp/ipykernel_1324/1042656294.py\u001b[0m in \u001b[0;36mplot_prediction\u001b[1;34m(n_target_points, n_context)\u001b[0m\n\u001b[0;32m      6\u001b[0m                                torch.Tensor(context_y.reshape(1, n_context, N_OUTPUT))], axis=2)\n\u001b[0;32m      7\u001b[0m \u001b[1;33m\u001b[0m\u001b[0m\n\u001b[1;32m----> 8\u001b[1;33m     prediction_distribution = neural_process(encoder_input[:1,:,:].double(), \n\u001b[0m\u001b[0;32m      9\u001b[0m                                              torch.Tensor(pred_x.reshape(1, n_target_points, N_OUTPUT)).double())\n\u001b[0;32m     10\u001b[0m \u001b[1;33m\u001b[0m\u001b[0m\n",
      "\u001b[1;32m~\\Desktop\\standard_env\\lib\\site-packages\\torch\\nn\\modules\\module.py\u001b[0m in \u001b[0;36m_call_impl\u001b[1;34m(self, *input, **kwargs)\u001b[0m\n\u001b[0;32m    887\u001b[0m             \u001b[0mresult\u001b[0m \u001b[1;33m=\u001b[0m \u001b[0mself\u001b[0m\u001b[1;33m.\u001b[0m\u001b[0m_slow_forward\u001b[0m\u001b[1;33m(\u001b[0m\u001b[1;33m*\u001b[0m\u001b[0minput\u001b[0m\u001b[1;33m,\u001b[0m \u001b[1;33m**\u001b[0m\u001b[0mkwargs\u001b[0m\u001b[1;33m)\u001b[0m\u001b[1;33m\u001b[0m\u001b[1;33m\u001b[0m\u001b[0m\n\u001b[0;32m    888\u001b[0m         \u001b[1;32melse\u001b[0m\u001b[1;33m:\u001b[0m\u001b[1;33m\u001b[0m\u001b[1;33m\u001b[0m\u001b[0m\n\u001b[1;32m--> 889\u001b[1;33m             \u001b[0mresult\u001b[0m \u001b[1;33m=\u001b[0m \u001b[0mself\u001b[0m\u001b[1;33m.\u001b[0m\u001b[0mforward\u001b[0m\u001b[1;33m(\u001b[0m\u001b[1;33m*\u001b[0m\u001b[0minput\u001b[0m\u001b[1;33m,\u001b[0m \u001b[1;33m**\u001b[0m\u001b[0mkwargs\u001b[0m\u001b[1;33m)\u001b[0m\u001b[1;33m\u001b[0m\u001b[1;33m\u001b[0m\u001b[0m\n\u001b[0m\u001b[0;32m    890\u001b[0m         for hook in itertools.chain(\n\u001b[0;32m    891\u001b[0m                 \u001b[0m_global_forward_hooks\u001b[0m\u001b[1;33m.\u001b[0m\u001b[0mvalues\u001b[0m\u001b[1;33m(\u001b[0m\u001b[1;33m)\u001b[0m\u001b[1;33m,\u001b[0m\u001b[1;33m\u001b[0m\u001b[1;33m\u001b[0m\u001b[0m\n",
      "\u001b[1;32m~\\AppData\\Local\\Temp/ipykernel_1324/3626796992.py\u001b[0m in \u001b[0;36mforward\u001b[1;34m(self, context_points, inputs)\u001b[0m\n\u001b[0;32m     80\u001b[0m \u001b[1;33m\u001b[0m\u001b[0m\n\u001b[0;32m     81\u001b[0m         \u001b[0mmean\u001b[0m\u001b[1;33m,\u001b[0m \u001b[0mstandard_deviation\u001b[0m \u001b[1;33m=\u001b[0m \u001b[0mself\u001b[0m\u001b[1;33m.\u001b[0m\u001b[0mencoder\u001b[0m\u001b[1;33m(\u001b[0m\u001b[0mcontext_points\u001b[0m\u001b[1;33m)\u001b[0m\u001b[1;33m\u001b[0m\u001b[1;33m\u001b[0m\u001b[0m\n\u001b[1;32m---> 82\u001b[1;33m         \u001b[0msampled_latent\u001b[0m \u001b[1;33m=\u001b[0m \u001b[0mtorch\u001b[0m\u001b[1;33m.\u001b[0m\u001b[0mrandn\u001b[0m\u001b[1;33m(\u001b[0m\u001b[0mmean\u001b[0m\u001b[1;33m.\u001b[0m\u001b[0mshape\u001b[0m\u001b[1;33m)\u001b[0m\u001b[1;33m.\u001b[0m\u001b[0mcuda\u001b[0m\u001b[1;33m(\u001b[0m\u001b[1;33m)\u001b[0m\u001b[1;33m*\u001b[0m\u001b[0mstandard_deviation\u001b[0m \u001b[1;33m+\u001b[0m \u001b[0mmean\u001b[0m\u001b[1;33m\u001b[0m\u001b[1;33m\u001b[0m\u001b[0m\n\u001b[0m\u001b[0;32m     83\u001b[0m         \u001b[0moutput_distribution\u001b[0m \u001b[1;33m=\u001b[0m \u001b[0mself\u001b[0m\u001b[1;33m.\u001b[0m\u001b[0mdecoder\u001b[0m\u001b[1;33m(\u001b[0m\u001b[0msampled_latent\u001b[0m\u001b[1;33m,\u001b[0m \u001b[0minputs\u001b[0m\u001b[1;33m)\u001b[0m\u001b[1;33m\u001b[0m\u001b[1;33m\u001b[0m\u001b[0m\n\u001b[0;32m     84\u001b[0m \u001b[1;33m\u001b[0m\u001b[0m\n",
      "\u001b[1;31mRuntimeError\u001b[0m: Expected all tensors to be on the same device, but found at least two devices, cuda:0 and cpu!"
     ]
    }
   ],
   "source": [
    "N_TARGET_POINTS = 100\n",
    "N_CONTEXT = 50\n",
    "    \n",
    "plot_prediction(N_TARGET_POINTS, N_CONTEXT)"
   ]
  },
  {
   "cell_type": "markdown",
   "metadata": {},
   "source": [
    "### MNIST"
   ]
  },
  {
   "cell_type": "code",
   "execution_count": 46,
   "metadata": {},
   "outputs": [],
   "source": [
    "import itertools\n",
    "import os\n",
    "\n",
    "import numpy as np\n",
    "import torchvision\n",
    "from torchvision import transforms\n",
    "from torch.utils.data import Dataset, DataLoader\n",
    "from tqdm import tqdm"
   ]
  },
  {
   "cell_type": "code",
   "execution_count": 55,
   "metadata": {},
   "outputs": [
    {
     "name": "stderr",
     "output_type": "stream",
     "text": [
      "100%|███████████████████████████████████████████████████████████████████████████| 60000/60000 [09:52<00:00, 101.26it/s]\n"
     ]
    }
   ],
   "source": [
    "mnist = torchvision.datasets.MNIST(root=\"\", download=True,\n",
    "                                   transform=transforms.Compose([\n",
    "                       transforms.ToTensor(),\n",
    "                       transforms.Normalize((0.1307,), (0.3081,))\n",
    "                   ]))\n",
    "\n",
    "if os.path.exists(\"X.npy\") is False:\n",
    "\n",
    "    X = []\n",
    "    Y = []\n",
    "\n",
    "    for (image, label) in tqdm(mnist):\n",
    "\n",
    "        idx = np.arange(0, 28).astype(np.int32)\n",
    "        idx_2d = list(itertools.product(idx, idx))\n",
    "        y = [image[0, x[0], x[1]].float().detach().cpu().numpy().astype(np.float32) for x in idx_2d]\n",
    "\n",
    "        X.append(np.array(idx_2d))\n",
    "        Y.append(np.array(y))\n",
    "\n",
    "    del mnist\n",
    "    np.save(\"X.npy\", np.array(X))\n",
    "    np.save(\"Y.npy\", np.array(Y))\n",
    "\n",
    "else:\n",
    "    X = np.load(\"X.npy\", allow_pickle=True)\n",
    "    Y = np.load(\"Y.npy\", allow_pickle=True)"
   ]
  },
  {
   "cell_type": "code",
   "execution_count": 103,
   "metadata": {},
   "outputs": [],
   "source": [
    "class MNISTData(Dataset):\n",
    "    \n",
    "    def __init__(self, X, Y, context_sample_range, target_sample_range):\n",
    "        super().__init__()\n",
    "        \n",
    "        self.X = X\n",
    "        self.Y = Y\n",
    "        self.context_sample_range = context_sample_range\n",
    "        self.target_sample_range = target_sample_range\n",
    "        \n",
    "        assert np.max([self.context_sample_range, self.target_sample_range]) <= 28*28\n",
    "        \n",
    "    def __len__(self):\n",
    "        return len(self.X)\n",
    "        \n",
    "    def __getitem__(self, idx):\n",
    "        \n",
    "        n_context_points = np.random.randint(*self.context_sample_range)\n",
    "        n_target_points = np.random.randint(*self.target_sample_range)\n",
    "        \n",
    "        context_x, context_y, target_x, target_y = self._get_subset(idx, n_context_points, n_target_points)\n",
    "        \n",
    "        return context_x, context_y, target_x, target_y\n",
    "    \n",
    "    def _get_subset(self, idx, n_context_points, n_target_points):\n",
    "        \n",
    "        sample_x = self.X[idx]\n",
    "        sample_y = self.Y[idx]\n",
    "        \n",
    "        context_idxs = np.random.choice(np.arange(0, len(sample_x)), n_context_points, replace=False)\n",
    "        target_idxs = np.random.choice(np.arange(0, len(sample_x)), n_target_points, replace=False)\n",
    "        \n",
    "        context_x = np.array(sample_x[context_idxs])/28\n",
    "        context_y = np.array(sample_y)[context_idxs].reshape(-1, 1)\n",
    "        \n",
    "        target_x = np.array(sample_x)[target_idxs]/28\n",
    "        target_y = np.array(sample_y)[target_idxs].reshape(-1, 1)\n",
    "        \n",
    "        return context_x, context_y, target_x, target_y"
   ]
  },
  {
   "cell_type": "code",
   "execution_count": 104,
   "metadata": {},
   "outputs": [],
   "source": [
    "train_X = X[0:40_000]\n",
    "train_Y = Y[0:40_000]\n",
    "\n",
    "val_X = X[40_000:50_000]\n",
    "val_Y = Y[40_000:50_000]\n",
    "\n",
    "test_X = X[50_000:]\n",
    "test_Y = Y[50_000:]\n",
    "\n",
    "train_dataset = MNISTData(train_X, train_Y, (5, 50), (5, 28*28))\n",
    "val_dataset = MNISTData(val_X, val_Y, (5, 50), (5, 28*28))\n",
    "test_dataset = MNISTData(test_X, test_Y, (5, 50), (5, 28*28))\n",
    "\n",
    "train_dataloader = DataLoader(train_dataset)\n",
    "val_dataloader = DataLoader(val_dataset)\n",
    "test_dataloader = DataLoader(test_dataset)"
   ]
  },
  {
   "cell_type": "code",
   "execution_count": 105,
   "metadata": {},
   "outputs": [],
   "source": [
    "LATENT_DIM = 128\n",
    "N_HIDDEN = 128*4\n",
    "N_INPUT = 2\n",
    "N_OUTPUT = 1\n",
    "\n",
    "encoder = Encoder(N_INPUT+1, N_HIDDEN, LATENT_DIM).cuda()\n",
    "decoder = Decoder(LATENT_DIM, N_INPUT, N_OUTPUT, N_HIDDEN).cuda()\n",
    "neural_process = NeuralProcess(encoder, decoder, LATENT_DIM).double().cuda()"
   ]
  },
  {
   "cell_type": "code",
   "execution_count": 108,
   "metadata": {},
   "outputs": [
    {
     "name": "stderr",
     "output_type": "stream",
     "text": [
      "  0%|▏                                                                             | 120/40000 [00:04<24:49, 26.77it/s]\n"
     ]
    },
    {
     "ename": "KeyboardInterrupt",
     "evalue": "",
     "output_type": "error",
     "traceback": [
      "\u001b[1;31m---------------------------------------------------------------------------\u001b[0m",
      "\u001b[1;31mKeyboardInterrupt\u001b[0m                         Traceback (most recent call last)",
      "\u001b[1;32m~\\AppData\\Local\\Temp/ipykernel_13476/3916606168.py\u001b[0m in \u001b[0;36m<module>\u001b[1;34m\u001b[0m\n\u001b[0;32m     19\u001b[0m         \u001b[0moptimizer\u001b[0m\u001b[1;33m.\u001b[0m\u001b[0mstep\u001b[0m\u001b[1;33m(\u001b[0m\u001b[1;33m)\u001b[0m\u001b[1;33m\u001b[0m\u001b[1;33m\u001b[0m\u001b[0m\n\u001b[0;32m     20\u001b[0m \u001b[1;33m\u001b[0m\u001b[0m\n\u001b[1;32m---> 21\u001b[1;33m         \u001b[0mtrain_rmse_vals\u001b[0m\u001b[1;33m.\u001b[0m\u001b[0mappend\u001b[0m\u001b[1;33m(\u001b[0m\u001b[0mloss\u001b[0m\u001b[1;33m.\u001b[0m\u001b[0mitem\u001b[0m\u001b[1;33m(\u001b[0m\u001b[1;33m)\u001b[0m\u001b[1;33m)\u001b[0m\u001b[1;33m\u001b[0m\u001b[1;33m\u001b[0m\u001b[0m\n\u001b[0m\u001b[0;32m     22\u001b[0m \u001b[1;33m\u001b[0m\u001b[0m\n\u001b[0;32m     23\u001b[0m     \u001b[0mval_rmse_vals\u001b[0m \u001b[1;33m=\u001b[0m \u001b[1;33m[\u001b[0m\u001b[1;33m]\u001b[0m\u001b[1;33m\u001b[0m\u001b[1;33m\u001b[0m\u001b[0m\n",
      "\u001b[1;31mKeyboardInterrupt\u001b[0m: "
     ]
    }
   ],
   "source": [
    "N_EPOCHS = 200\n",
    "\n",
    "criterion = torch.nn.MSELoss()\n",
    "optimizer = torch.optim.Adam(neural_process.parameters(), lr=0.001)\n",
    "\n",
    "for epoch in range(N_EPOCHS):\n",
    "    \n",
    "    train_rmse_vals = []\n",
    "    \n",
    "    for context_x, context_y, target_x, target_y in tqdm(train_dataloader):\n",
    "        \n",
    "        encoder_input = torch.cat([context_x, context_y], axis=2)\n",
    "\n",
    "        output_distribution = neural_process(encoder_input.cuda(), target_x.cuda())\n",
    "        \n",
    "        loss = torch.mean(-output_distribution.log_prob(target_y.cuda()))\n",
    "        optimizer.zero_grad()\n",
    "        loss.backward()\n",
    "        optimizer.step()\n",
    "        \n",
    "        train_rmse_vals.append(loss.item())\n",
    "        \n",
    "    val_rmse_vals = []\n",
    "        \n",
    "    for context_x, context_y, target_x, target_y in val_dataloader:\n",
    "        \n",
    "        encoder_input = torch.cat([context_x, context_y], axis=2)\n",
    "\n",
    "        output_distribution = neural_process(encoder_input.cuda(), target_x.cuda())\n",
    "        \n",
    "        loss = torch.mean(-output_distribution.log_prob(target_y.cuda()))\n",
    "        \n",
    "        val_rmse_vals.append(loss.item())\n",
    "        \n",
    "    clear_output(wait=True)\n",
    "    print(f\"Epoch {epoch+1} train RMSE: {np.mean(train_rmse_vals)}, val RMSE: {np.mean(val_rmse_vals)}\")\n",
    "    plot_prediction(N_TARGET_POINTS, N_CONTEXT)"
   ]
  },
  {
   "cell_type": "code",
   "execution_count": null,
   "metadata": {},
   "outputs": [],
   "source": [
    "def plot_image_prediction(n_target_points, n_context):\n",
    "\n",
    "    pred_x, pred_y = gen_data(n_target_points, ordered=True)\n",
    "    context_x, context_y = gen_data(n_context)\n",
    "    encoder_input = torch.cat([torch.Tensor(context_x.reshape(1, n_context, N_OUTPUT)), \n",
    "                               torch.Tensor(context_y.reshape(1, n_context, N_OUTPUT))], axis=2)\n",
    "\n",
    "    prediction_distribution = neural_process(encoder_input[:1,:,:].double(), \n",
    "                                             torch.Tensor(pred_x.reshape(1, n_target_points, N_OUTPUT)).double())\n",
    "\n",
    "    prediction = prediction_distribution.mean\n",
    "\n",
    "    prediction = prediction.reshape(-1).detach().cpu().numpy()\n",
    "\n",
    "    uncertainty = prediction_distribution.stddev[0]\n",
    "    uncertainty = uncertainty.reshape(-1).detach().cpu().numpy()\n",
    "\n",
    "    plt.plot(pred_x.reshape(-1), prediction, color='tab:blue', label=\"Mean prediction\")\n",
    "    plt.fill_between(pred_x.reshape(-1), prediction - 1.97*uncertainty, prediction + 1.97*uncertainty, alpha=0.2, \n",
    "                     color='tab:blue', label=\"Uncertainty\")\n",
    "    plt.plot(x, y, color='black', label=\"Targets\")\n",
    "    plt.scatter(context_x.reshape(-1), context_y.reshape(-1), color='black', label=\"Context points\")\n",
    "    plt.legend()\n",
    "    plt.xlabel(\"x\")\n",
    "    plt.ylabel(\"y\")\n",
    "    plt.show()"
   ]
  },
  {
   "cell_type": "code",
   "execution_count": null,
   "metadata": {},
   "outputs": [],
   "source": [
    "N_TARGET_POINTS = 100\n",
    "N_CONTEXT = 50\n",
    "    \n",
    "plot_prediction(N_TARGET_POINTS, N_CONTEXT)"
   ]
  }
 ],
 "metadata": {
  "kernelspec": {
   "display_name": "Python 3 (ipykernel)",
   "language": "python",
   "name": "python3"
  },
  "language_info": {
   "codemirror_mode": {
    "name": "ipython",
    "version": 3
   },
   "file_extension": ".py",
   "mimetype": "text/x-python",
   "name": "python",
   "nbconvert_exporter": "python",
   "pygments_lexer": "ipython3",
   "version": "3.9.9"
  }
 },
 "nbformat": 4,
 "nbformat_minor": 4
}
